{
 "cells": [
  {
   "cell_type": "code",
   "execution_count": 25,
   "metadata": {},
   "outputs": [],
   "source": [
    "#Importar librerías\n",
    "import pandas as pd\n",
    "import pyodbc\n",
    "from sqlalchemy import create_engine\n",
    "import networkx as nx\n",
    "from pyvis.network import Network\n",
    "from bs4 import BeautifulSoup"
   ]
  },
  {
   "cell_type": "markdown",
   "metadata": {},
   "source": [
    "## PARÁMETROS"
   ]
  },
  {
   "cell_type": "code",
   "execution_count": 26,
   "metadata": {},
   "outputs": [],
   "source": [
    "# Filtrar por tabla:\n",
    "esquema_filtro = None # En el caso no haya filtro de debe poner None\n",
    "tabla_filtro = None # En el caso no haya filtro de debe poner None\n",
    "if esquema_filtro == None or tabla_filtro == None:\n",
    "    filtro = None\n",
    "else:\n",
    "    filtro = esquema_filtro + '_' + tabla_filtro\n",
    "\n",
    "# ------------------------------------------------------------------------------------------------------------------\n",
    "\n",
    "# Filtrar esquema en general\n",
    "esquema_filtro = None  # En el caso no haya filtro de debe poner None"
   ]
  },
  {
   "cell_type": "markdown",
   "metadata": {},
   "source": [
    "## CONEXIÓN SQL SERVER - AUTENTICACIÓN WINDOWS"
   ]
  },
  {
   "cell_type": "code",
   "execution_count": 27,
   "metadata": {},
   "outputs": [],
   "source": [
    "##configuración de la conección\n",
    "server = 'PE3443175W2'\n",
    "database = 'Base_Grafos_Test'\n",
    "trusted_connection = 'yes' # esto indica que se usará la autentificación de windows\n",
    "connection_string = f'DRIVER={{SQL Server}};SERVER={server};DATABASE={database};Trusted_Connection={trusted_connection}'\n",
    "conn = pyodbc.connect(connection_string)\n",
    "engine  = create_engine(f'mssql+pyodbc:///?odbc_connect={connection_string}')\n",
    "cursor = conn.cursor()"
   ]
  },
  {
   "cell_type": "code",
   "execution_count": 28,
   "metadata": {},
   "outputs": [],
   "source": [
    "if esquema_filtro == None:\n",
    "    query_tablas = \"\"\"\n",
    "        SELECT SCHEMA_NAME(schema_id) as schema_name, name as table_name , sum(rows) as row_count\n",
    "        FROM sys.tables t\n",
    "        inner join sys.partitions p ON t.object_id = p.object_id\n",
    "        where p.index_id IN (0,1) \n",
    "        group by SCHEMA_NAME(schema_id),name\"\"\"\n",
    "else:\n",
    "    query_tablas = f\"\"\"\n",
    "        SELECT SCHEMA_NAME(schema_id) as schema_name, name as table_name , sum(rows) as row_count\n",
    "        FROM sys.tables t\n",
    "        inner join sys.partitions p ON t.object_id = p.object_id\n",
    "        where p.index_id IN (0,1) and SCHEMA_NAME(schema_id) = '{esquema_filtro}'\n",
    "        group by SCHEMA_NAME(schema_id),name\"\"\""
   ]
  },
  {
   "cell_type": "code",
   "execution_count": 29,
   "metadata": {},
   "outputs": [
    {
     "data": {
      "text/plain": [
       "[('dbo', 'TClientes', 15),\n",
       " ('dbo', 'TEmpleados', 5),\n",
       " ('dbo', 'TFacturas', 3),\n",
       " ('dbo', 'TPedidos', 4),\n",
       " ('dbo', 'TProductos', 3),\n",
       " ('dbo', 'TVacaciones', 4)]"
      ]
     },
     "execution_count": 29,
     "metadata": {},
     "output_type": "execute_result"
    }
   ],
   "source": [
    "#Obtener la lista de las tablas en la BD\n",
    "tabla_cursor = conn.cursor()\n",
    "tabla_cursor.execute(query_tablas)\n",
    "tablas = tabla_cursor.fetchall()\n",
    "tablas"
   ]
  },
  {
   "cell_type": "code",
   "execution_count": 30,
   "metadata": {},
   "outputs": [],
   "source": [
    "#Diccionario para guardar el nombre de los df's\n",
    "dataframes = {}\n",
    "dataframes_vacios = {}\n",
    "\n",
    "#Iterar sobre las tablas y cargar cada una a un df \n",
    "for tabla in tablas:\n",
    "    esquema_tabla = tabla[0]\n",
    "    nombre_tabla = tabla[1]\n",
    "    cantidad_filas = tabla[2]\n",
    "    query = f\"SELECT top (10000) * FROM [{esquema_tabla}].[{nombre_tabla}]\"\n",
    "\n",
    "    #Cragar los datos \n",
    "    df = pd.read_sql(query, engine)\n",
    "\n",
    "    #Nombre de la tabla\n",
    "    nombre_df = esquema_tabla + '_' + nombre_tabla\n",
    "\n",
    "    #Cambiar y guardar el nombre del df\n",
    "    globals()[nombre_df] = df.copy()\n",
    "\n",
    "    #Agregar nombre del df en el diccionario\n",
    "    if cantidad_filas > 0:\n",
    "        dataframes[nombre_df] = globals()[nombre_df]\n",
    "    else:\n",
    "        dataframes_vacios[nombre_df] = globals()[nombre_df]\n",
    "    \n",
    "    del df #Eliminar df"
   ]
  },
  {
   "cell_type": "code",
   "execution_count": 31,
   "metadata": {},
   "outputs": [],
   "source": [
    "#cursor = conn.cursor()\n",
    "conn.close()"
   ]
  },
  {
   "cell_type": "markdown",
   "metadata": {},
   "source": [
    "## CREACIÓN DE GRAFOS PARA OBTENER LAS RELACIONES ENTRE TABLAS"
   ]
  },
  {
   "cell_type": "code",
   "execution_count": 32,
   "metadata": {},
   "outputs": [],
   "source": [
    "# Crear un grafo dirigido para representar las relaciones\n",
    "grafo_relaciones = nx.DiGraph()"
   ]
  },
  {
   "cell_type": "code",
   "execution_count": 33,
   "metadata": {},
   "outputs": [],
   "source": [
    "# Definir función para calcular el porcentaje de similitud de los datos\n",
    "def porcentaje_valores_en_comun(df1, df2, columna_df1, columna_df2):\n",
    "    df1[columna_df1] = df1[columna_df1].astype(str)\n",
    "    df2[columna_df2] = df2[columna_df2].astype(str)\n",
    "\n",
    "    valores_unicos_df1 = set(df1[columna_df1])\n",
    "    valores_unicos_df2 = set(df2[columna_df2])\n",
    "\n",
    "    valores_en_comun = valores_unicos_df1.intersection(valores_unicos_df2)\n",
    "    porcentaje_en_comun = len(valores_en_comun) / len(valores_unicos_df1) * 100\n",
    "\n",
    "    return porcentaje_en_comun"
   ]
  },
  {
   "cell_type": "code",
   "execution_count": 34,
   "metadata": {},
   "outputs": [],
   "source": [
    "\n",
    "# Definir una función para inferir relaciones basándose en la similitud de Jaccard\n",
    "def inferir_relaciones(df1, df2, umbral_similitud=70):\n",
    "    campos_relacionados = []\n",
    "    nombre_df1 = [name for name, var in globals().items() if var is df1][0]\n",
    "    nombre_df2 = [name for name, var in globals().items() if var is df2][0]\n",
    "    for col1 in df1.columns:\n",
    "        if 'float' in str(df1[col1].dtype):\n",
    "            continue\n",
    "        if len(df1[col1]) == df1[col1].nunique():\n",
    "            for col2 in df2.columns:\n",
    "                if 'float' in str(df2[col2].dtype):\n",
    "                    continue\n",
    "                if porcentaje_valores_en_comun(df1, df2, col1, col2) > umbral_similitud:\n",
    "                    campos_relacionados.append((nombre_df1 + '.' + col1, nombre_df2 + '.' + col2))\n",
    "                elif porcentaje_valores_en_comun(df2, df1, col2, col1) > umbral_similitud:\n",
    "                    campos_relacionados.append((nombre_df2 + '.' + col2, nombre_df1 + '.' + col1))\n",
    "        else:\n",
    "            for col2 in df2.columns:\n",
    "                if 'float' in str(df2[col2].dtype):\n",
    "                    continue\n",
    "                if len(df2[col2]) == df2[col2].nunique():\n",
    "                    if porcentaje_valores_en_comun(df1, df2, col1, col2) > umbral_similitud:\n",
    "                        campos_relacionados.append((nombre_df1 + '.' + col1, nombre_df2 + '.' + col2))\n",
    "                    elif porcentaje_valores_en_comun(df2, df1, col2, col1) > umbral_similitud:\n",
    "                        campos_relacionados.append((nombre_df2 + '.' + col2, nombre_df1 + '.' + col1))\n",
    "    if len(campos_relacionados) > 0:\n",
    "        return campos_relacionados\n",
    "    else:\n",
    "        return None"
   ]
  },
  {
   "cell_type": "code",
   "execution_count": 35,
   "metadata": {},
   "outputs": [],
   "source": [
    "def relaciones_entre_tablas(diccionario_tablas, tabla_especifica=None):\n",
    "    # Crear un grafo dirigido para representar las relaciones\n",
    "    grafo_relaciones = nx.DiGraph()\n",
    "    # Inicializar el conjunto de nombres de DataFrames relacionados\n",
    "    dataframes_relacionados = set()\n",
    "    relaciones_comparadas = set()\n",
    "    if tabla_especifica == None:\n",
    "        # Iterar sobre los pares de DataFrames y buscar relaciones\n",
    "        for nombre_df1, df1 in diccionario_tablas.items():\n",
    "            for nombre_df2, df2 in diccionario_tablas.items():\n",
    "                if nombre_df1 != nombre_df2:\n",
    "                    relaciones = inferir_relaciones(df1, df2)\n",
    "                    if relaciones:\n",
    "                        grafo_relaciones.add_edge(nombre_df1, nombre_df2, relaciones=relaciones)\n",
    "                        dataframes_relacionados.add(nombre_df1)\n",
    "                        dataframes_relacionados.add(nombre_df2)\n",
    "                        relaciones_comparadas.add((nombre_df1,nombre_df2))\n",
    "\n",
    "        # Encontrar DataFrames sin relaciones y agregar nodos para ellos\n",
    "        dataframes_sin_relacion = set(diccionario_tablas.keys()) - dataframes_relacionados\n",
    "        for df in dataframes_sin_relacion:\n",
    "            grafo_relaciones.add_node(df)\n",
    "\n",
    "        return grafo_relaciones\n",
    "\n",
    "    else:\n",
    "        for nombre_df1, df1 in diccionario_tablas.items():\n",
    "            for nombre_df2, df2 in diccionario_tablas.items():\n",
    "                if nombre_df1 != nombre_df2:\n",
    "                    if nombre_df1 == tabla_especifica or nombre_df2 == tabla_especifica:\n",
    "                        relaciones = inferir_relaciones(df1, df2)\n",
    "                        if relaciones:\n",
    "                            grafo_relaciones.add_edge(nombre_df1, nombre_df2, relaciones=relaciones)\n",
    "                            dataframes_relacionados.add(nombre_df1)\n",
    "                            dataframes_relacionados.add(nombre_df2)\n",
    "                            relaciones_comparadas.add((nombre_df1,nombre_df2))\n",
    "                            \n",
    "        return grafo_relaciones\n"
   ]
  },
  {
   "cell_type": "code",
   "execution_count": 36,
   "metadata": {},
   "outputs": [],
   "source": [
    "def relacionEntreTablas(tabla_1, tabla_2):\n",
    "    relaciones_entre_tablas = grafo_relaciones.get_edge_data(tabla_1, tabla_2)\n",
    "    if relaciones_entre_tablas:\n",
    "        relaciones = relaciones_entre_tablas.get('relaciones')\n",
    "        if relaciones:\n",
    "            return 1\n",
    "        else:\n",
    "            return 0\n",
    "    else:\n",
    "        return 0"
   ]
  },
  {
   "cell_type": "code",
   "execution_count": 37,
   "metadata": {},
   "outputs": [],
   "source": [
    "def eliminarRelaciones(relaciones_a_eliminar):\n",
    "    tablas_afectadas = set()\n",
    "    for _ in range(2):\n",
    "        for relacion in relaciones_a_eliminar:\n",
    "            nodo_inicio, campo_inicio, nodo_fin, campo_fin = relacion\n",
    "            if grafo_relaciones.has_edge(nodo_inicio, nodo_fin):\n",
    "                relaciones_actuales = grafo_relaciones[nodo_inicio][nodo_fin]['relaciones']\n",
    "                relaciones_actualizadas = [r for r in relaciones_actuales if r != (nodo_inicio + '.' + campo_inicio, nodo_fin + '.' + campo_fin)]\n",
    "                grafo_relaciones[nodo_inicio][nodo_fin]['relaciones'] = relaciones_actualizadas\n",
    "                tablas_afectadas.add(nodo_inicio)\n",
    "                tablas_afectadas.add(nodo_fin)\n",
    "\n",
    "                relaciones_actuales = grafo_relaciones[nodo_inicio][nodo_fin]['relaciones']\n",
    "                relaciones_actualizadas = [r for r in relaciones_actuales if r != (nodo_fin + '.' + campo_fin, nodo_inicio + '.' + campo_inicio)]\n",
    "                grafo_relaciones[nodo_inicio][nodo_fin]['relaciones'] = relaciones_actualizadas\n",
    "                tablas_afectadas.add(nodo_inicio)\n",
    "                tablas_afectadas.add(nodo_fin)\n",
    "        relaciones_a_eliminar = [r_eliminar[2:] + r_eliminar[:2] for r_eliminar in relaciones_a_eliminar]\n",
    "    # Eliminar todas las relaciones entre las tablas afectadas\n",
    "    for tabla_inicio in tablas_afectadas:\n",
    "        for tabla_fin in tablas_afectadas:\n",
    "            try:\n",
    "                if relacionEntreTablas(tabla_inicio, tabla_fin) == 0 and tabla_inicio != tabla_fin:\n",
    "                    grafo_relaciones.remove_edge(tabla_inicio, tabla_fin)\n",
    "            except nx.NetworkXError:\n",
    "                pass\n",
    "    print('---------------------------------Completado con éxito---------------------------------')"
   ]
  },
  {
   "cell_type": "code",
   "execution_count": 38,
   "metadata": {},
   "outputs": [],
   "source": [
    "def agregarRelaciones(relaciones_a_agregar):\n",
    "    for relacion in relaciones_a_agregar:\n",
    "        nodo_inicio, campo_inicio, nodo_fin, campo_fin = relacion\n",
    "        if relacionEntreTablas(nodo_inicio, nodo_fin) == 0:\n",
    "            grafo_relaciones.add_edge(nodo_inicio, nodo_fin, relaciones=[(nodo_inicio + '.' + campo_inicio, nodo_fin + '.' + campo_fin)])\n",
    "            grafo_relaciones.add_edge(nodo_inicio, nodo_fin)  # Agregar relación entre tablas automáticamente\n",
    "        else:\n",
    "            relaciones_actuales = grafo_relaciones[nodo_inicio][nodo_fin]['relaciones']\n",
    "            relaciones_actuales.append((nodo_inicio + '.' + campo_inicio, nodo_fin + '.' + campo_fin))\n",
    "            grafo_relaciones[nodo_inicio][nodo_fin]['relaciones'] = relaciones_actuales\n",
    "            grafo_relaciones[nodo_fin][nodo_inicio]['relaciones'] = relaciones_actuales\n",
    "    print('---------------------------------Completado con éxito---------------------------------')"
   ]
  },
  {
   "cell_type": "code",
   "execution_count": 39,
   "metadata": {},
   "outputs": [],
   "source": [
    "if filtro == None:\n",
    "    grafo_relaciones = relaciones_entre_tablas(dataframes)\n",
    "else:\n",
    "    grafo_relaciones = relaciones_entre_tablas(dataframes,filtro)"
   ]
  },
  {
   "cell_type": "code",
   "execution_count": 40,
   "metadata": {},
   "outputs": [
    {
     "name": "stdout",
     "output_type": "stream",
     "text": [
      "---------------------------------Completado con éxito---------------------------------\n"
     ]
    }
   ],
   "source": [
    "# Eliminar relaciones\n",
    "df_eliminar_relaciones = pd.read_excel('Modificar_Relaciones.xlsx',sheet_name='Eliminar')\n",
    "\n",
    "if len(df_eliminar_relaciones) > 0:\n",
    "    relaciones_eliminar = []\n",
    "    for index, row in df_eliminar_relaciones.iterrows():\n",
    "        esquema_1, tabla_1, campo_1 = row['Esquema_1'], row['Tabla_1'], row['Campo_1']\n",
    "        esquema_2, tabla_2, campo_2 = row['Esquema_2'], row['Tabla_2'], row['Campo_2']\n",
    "        relacion_eliminar = (f'{esquema_1}_{tabla_1}', campo_1, f'{esquema_2}_{tabla_2}', campo_2)\n",
    "        relaciones_eliminar.append(relacion_eliminar)\n",
    "    eliminarRelaciones(relaciones_eliminar)"
   ]
  },
  {
   "cell_type": "code",
   "execution_count": 41,
   "metadata": {},
   "outputs": [],
   "source": [
    "# Agregar relaciones\n",
    "df_agregar_relaciones = pd.read_excel('Modificar_Relaciones.xlsx',sheet_name='Agregar')\n",
    "\n",
    "if len(df_agregar_relaciones) > 0:\n",
    "    relaciones_agregar = []\n",
    "    for index, row in df_agregar_relaciones.iterrows():\n",
    "        esquema_1, tabla_1, campo_1 = row['Esquema_1'], row['Tabla_1'], row['Campo_1']\n",
    "        esquema_2, tabla_2, campo_2 = row['Esquema_2'], row['Tabla_2'], row['Campo_2']\n",
    "        relacion_agregar = (f'{esquema_1}_{tabla_1}', campo_1, f'{esquema_2}_{tabla_2}', campo_2)\n",
    "        relaciones_agregar.append(relacion_agregar)\n",
    "    agregarRelaciones(relaciones_agregar)"
   ]
  },
  {
   "cell_type": "code",
   "execution_count": 46,
   "metadata": {},
   "outputs": [
    {
     "name": "stdout",
     "output_type": "stream",
     "text": [
      "Warning: When  cdn_resources is 'local' jupyter notebook has issues displaying graphics on chrome/safari. Use cdn_resources='in_line' or cdn_resources='remote' if you have issues viewing graphics in a notebook.\n"
     ]
    }
   ],
   "source": [
    "# Dibujar el grafo\n",
    "\n",
    "# Obtener las posiciones una vez que se han agregado todos los nodos y aristas\n",
    "posiciones = nx.spring_layout(grafo_relaciones,seed=42)\n",
    "\n",
    "# Crear un objeto de red para visualización interactiva\n",
    "net = Network(notebook=True, height=\"700px\", width=\"100%\")\n",
    "\n",
    "# Agregar nodos al objeto de red con nombres y posiciones\n",
    "for nodo, pos in posiciones.items():\n",
    "    net.add_node(nodo, label=nodo, x=pos[0] * 100, y=pos[1] * 100)\n",
    "\n",
    "# Agregar aristas al objeto de red con tooltips\n",
    "for edge in grafo_relaciones.edges():\n",
    "    relaciones = grafo_relaciones[edge[0]][edge[1]]['relaciones']\n",
    "    if relaciones:\n",
    "        tooltip_text = f'Relaciones ({len(relaciones)})' +  ':\\n{}'.format('\\n'.join([f\"({x[0]}, {x[1]})\" for x in relaciones]))\n",
    "    else:\n",
    "        tooltip_text = 'No hay relaciones disponibles'\n",
    "    net.add_edge(edge[0], edge[1], title=tooltip_text)       \n",
    "\n",
    "# Guardar la visualización interactiva\n",
    "net.save_graph(\"Entidad_Relación.html\")\n",
    "\n",
    "# Abrir el archivo HTML con codificación UTF-8\n",
    "with open(\"Entidad_Relación.html\", \"r\", encoding=\"utf-8\") as file:\n",
    "    html_content = file.read()\n",
    "    soup = BeautifulSoup(html_content, \"html.parser\")\n",
    "\n",
    "# Crear un encabezado h1 con el título\n",
    "header_tag = soup.new_tag(\"h1\")\n",
    "header_tag.string = \"MODELO ENTIDAD-RELACIÓN\"\n",
    "header_tag['style'] = 'font-size: 36px;'  # Ajustar el tamaño de la fuente según sea necesario\n",
    "soup.body.insert(0, header_tag)  # Insertar el encabezado al principio del cuerpo del HTML\n",
    "\n",
    "# Guardar el HTML actualizado con el encabezado y la codificación correcta\n",
    "with open(\"Entidad_Relación.html\", \"w\", encoding=\"utf-8\") as file:\n",
    "    file.write(str(soup))"
   ]
  },
  {
   "cell_type": "code",
   "execution_count": 43,
   "metadata": {},
   "outputs": [
    {
     "data": {
      "text/html": [
       "<div>\n",
       "<style scoped>\n",
       "    .dataframe tbody tr th:only-of-type {\n",
       "        vertical-align: middle;\n",
       "    }\n",
       "\n",
       "    .dataframe tbody tr th {\n",
       "        vertical-align: top;\n",
       "    }\n",
       "\n",
       "    .dataframe thead th {\n",
       "        text-align: right;\n",
       "    }\n",
       "</style>\n",
       "<table border=\"1\" class=\"dataframe\">\n",
       "  <thead>\n",
       "    <tr style=\"text-align: right;\">\n",
       "      <th></th>\n",
       "      <th>Esquema_1</th>\n",
       "      <th>Tabla_1</th>\n",
       "      <th>Campo_1</th>\n",
       "      <th>Esquema_2</th>\n",
       "      <th>Tabla_2</th>\n",
       "      <th>Campo_2</th>\n",
       "    </tr>\n",
       "  </thead>\n",
       "  <tbody>\n",
       "    <tr>\n",
       "      <th>0</th>\n",
       "      <td>dbo</td>\n",
       "      <td>TPedidos</td>\n",
       "      <td>ClienteID_2P</td>\n",
       "      <td>dbo</td>\n",
       "      <td>TClientes</td>\n",
       "      <td>ClienteID_keyC</td>\n",
       "    </tr>\n",
       "    <tr>\n",
       "      <th>2</th>\n",
       "      <td>dbo</td>\n",
       "      <td>TPedidos</td>\n",
       "      <td>PedidoIDP</td>\n",
       "      <td>dbo</td>\n",
       "      <td>TFacturas</td>\n",
       "      <td>PedidoIDF</td>\n",
       "    </tr>\n",
       "    <tr>\n",
       "      <th>3</th>\n",
       "      <td>dbo</td>\n",
       "      <td>TPedidos</td>\n",
       "      <td>Producto</td>\n",
       "      <td>dbo</td>\n",
       "      <td>TProductos</td>\n",
       "      <td>ProductoP</td>\n",
       "    </tr>\n",
       "    <tr>\n",
       "      <th>4</th>\n",
       "      <td>dbo</td>\n",
       "      <td>TVacaciones</td>\n",
       "      <td>IDEmpleadoV</td>\n",
       "      <td>dbo</td>\n",
       "      <td>TEmpleados</td>\n",
       "      <td>EmpleadoIDE</td>\n",
       "    </tr>\n",
       "    <tr>\n",
       "      <th>5</th>\n",
       "      <td>dbo</td>\n",
       "      <td>TFacturas</td>\n",
       "      <td>PedidoIDF</td>\n",
       "      <td>dbo</td>\n",
       "      <td>TPedidos</td>\n",
       "      <td>PedidoIDP</td>\n",
       "    </tr>\n",
       "    <tr>\n",
       "      <th>7</th>\n",
       "      <td>dbo</td>\n",
       "      <td>TProductos</td>\n",
       "      <td>ProductoP</td>\n",
       "      <td>dbo</td>\n",
       "      <td>TPedidos</td>\n",
       "      <td>Producto</td>\n",
       "    </tr>\n",
       "  </tbody>\n",
       "</table>\n",
       "</div>"
      ],
      "text/plain": [
       "  Esquema_1      Tabla_1       Campo_1 Esquema_2     Tabla_2         Campo_2\n",
       "0       dbo     TPedidos  ClienteID_2P       dbo   TClientes  ClienteID_keyC\n",
       "2       dbo     TPedidos     PedidoIDP       dbo   TFacturas       PedidoIDF\n",
       "3       dbo     TPedidos      Producto       dbo  TProductos       ProductoP\n",
       "4       dbo  TVacaciones   IDEmpleadoV       dbo  TEmpleados     EmpleadoIDE\n",
       "5       dbo    TFacturas     PedidoIDF       dbo    TPedidos       PedidoIDP\n",
       "7       dbo   TProductos     ProductoP       dbo    TPedidos        Producto"
      ]
     },
     "execution_count": 43,
     "metadata": {},
     "output_type": "execute_result"
    }
   ],
   "source": [
    "df_relaciones = pd.DataFrame(columns=['Esquema_1', 'Tabla_1', 'Campo_1', 'Esquema_2', 'Tabla_2', 'Campo_2'])\n",
    "l_relaciones = []\n",
    "# Mostrar todas las relaciones con sus campos correspondientes\n",
    "for edge in grafo_relaciones.edges(data=True):\n",
    "    nodo_inicio = edge[0]\n",
    "    nodo_fin = edge[1]\n",
    "    relaciones = edge[2]['relaciones'] if 'relaciones' in edge[2] else None\n",
    "    if relaciones:\n",
    "        for relacion in relaciones:\n",
    "            rela_1_split = relacion[0].split('_', 1)\n",
    "            rela_2_split = relacion[1].split('_', 1)\n",
    "            tabla_campo_1_split = rela_1_split[1].split('.')\n",
    "            tabla_campo_2_split = rela_2_split[1].split('.')\n",
    "            esquema1, tabla1, campo1 = rela_1_split[0], tabla_campo_1_split[0], tabla_campo_1_split[1]\n",
    "            esquema2, tabla2, campo2 = rela_2_split[0], tabla_campo_2_split[0], tabla_campo_2_split[1]\n",
    "            l_relacion = [esquema1, tabla1, campo1, esquema2, tabla2, campo2]\n",
    "            df_relaciones.loc[len(df_relaciones)] = l_relacion\n",
    "\n",
    "df_relaciones.drop_duplicates(inplace=True)\n",
    "\n",
    "df_relaciones.to_excel('Relaciones.xlsx',index=False)\n",
    "\n",
    "df_relaciones"
   ]
  }
 ],
 "metadata": {
  "kernelspec": {
   "display_name": "Python 3",
   "language": "python",
   "name": "python3"
  },
  "language_info": {
   "codemirror_mode": {
    "name": "ipython",
    "version": 3
   },
   "file_extension": ".py",
   "mimetype": "text/x-python",
   "name": "python",
   "nbconvert_exporter": "python",
   "pygments_lexer": "ipython3",
   "version": "3.12.0"
  }
 },
 "nbformat": 4,
 "nbformat_minor": 2
}
